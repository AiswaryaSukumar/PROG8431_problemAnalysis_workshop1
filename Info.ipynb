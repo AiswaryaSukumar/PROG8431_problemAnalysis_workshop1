{
 "cells": [
  {
   "cell_type": "markdown",
   "id": "3229420a",
   "metadata": {},
   "source": [
    "# Problem Analysis Workshop - 1\n",
    "## Data Analysis Mathematics, Algorithms and Modeling\n",
    "### PROG8431 - Fall 2025 - Section 1\n",
    "\n",
    "Team Members - Group 2\n",
    "\n",
    "Aiswarya Thekkuveettil Thazhath - 8993970\n",
    "\n",
    "Albright Maduka - \n",
    "\n",
    "Abdullahi Abdirizak Mohamed"
   ]
  },
  {
   "cell_type": "markdown",
   "id": "5684837d",
   "metadata": {},
   "source": [
    "## Research Question And Field Of Inquiry\n",
    "\n",
    "**Field Of Inquiry**  : \n",
    "\n",
    "AI/ML Security\n",
    "\n",
    "**Research Question**: \n",
    "\n",
    "How do AI/ML related cybersecurity attacks differ from traditional attacks in terms of impact and detection, and what does this reveal about current defense gaps in AI systems ?\n",
    "\n",
    "**Prompt to Gen AI**\n",
    "\n",
    "We are a group of students conducting research on AI/ML Security. Our focus is on understanding: How do AI/ML-related cybersecurity attacks differ from traditional attacks in terms of impact and detection, and what does this reveal about the current defense gaps in AI systems? Write a short essay (maximum 100 words) summarizing the findings.\n",
    "\n",
    "**Essay (≈100 words)**\n",
    "\n",
    "AI/ML cybersecurity attacks differ from traditional ones by targeting models and data rather than only networks or software. Adversarial examples, data poisoning, and model theft manipulate outcomes subtly, often escaping standard detection methods. Unlike traditional attacks that usually disrupt systems directly, AI/ML attacks undermine trust in automated decision-making, leading to hidden but severe consequences such as biased predictions or security misclassifications. Detection is harder because malicious inputs often resemble normal data, leaving little trace. These challenges reveal defense gaps in AI systems, highlighting the urgent need for specialized, proactive security frameworks tailored to protect models, training pipelines, and datasets\n",
    "\n",
    "\n"
   ]
  },
  {
   "cell_type": "markdown",
   "id": "9d0fc6b2",
   "metadata": {},
   "source": [
    "# Setup & Configuration Steps\n",
    "\n",
    "1. Install the IDE (VS Code)\n",
    "\n",
    "   Download and install Visual Studio Code. This will be your main environment for writing and running your notebook.\n",
    "\n",
    "2. Install Python\n",
    "\n",
    "   Install latest Python 3.x on your computer.\n",
    "\n",
    "3. Install VS Code Extensions\n",
    "\n",
    "   Go to Extensions Hub (Ctrl+Shift+X), install:\n",
    "\n",
    "    Python (by Microsoft)\n",
    "\n",
    "    Jupyter (by Microsoft)\n",
    "\n",
    "4. Create Project Folder & Virtual Environment\n",
    "\n",
    "   Create A project Folder here ; PROBLEM_ANALYSIS_WORKSHOP1\n",
    "\n",
    "   Navigate to your project folder and run:\n",
    "\n",
    "\n",
    "   `python -m venv .venv`\n",
    "\n",
    "5. Activate the Virtual Environment\n",
    "\n",
    "   `.venv\\Scripts\\activate`\n",
    "\n",
    "6. Install Required Python Packages\n",
    "\n",
    "   With the venv active, install what you'll need:\n",
    "\n",
    "   `pip install jupyter pandas`\n",
    "\n",
    "\n",
    "\n",
    "7. Create & Open Notebook\n",
    "\n",
    "   Here We created Info.ipynb and added the details"
   ]
  },
  {
   "cell_type": "markdown",
   "id": "463f5a30",
   "metadata": {},
   "source": [
    "## Step : 8\n",
    "Import Libraries and Verifications\n"
   ]
  },
  {
   "cell_type": "code",
   "execution_count": 2,
   "id": "52120616",
   "metadata": {},
   "outputs": [
    {
     "name": "stdout",
     "output_type": "stream",
     "text": [
      "Python: 3.13.7 (tags/v3.13.7:bcee1c3, Aug 14 2025, 14:15:11) [MSC v.1944 64 bit (AMD64)]\n",
      "pandas: 2.3.2\n"
     ]
    }
   ],
   "source": [
    "import sys, pandas as pd\n",
    "print(\"Python:\", sys.version)\n",
    "print(\"pandas:\", pd.__version__)"
   ]
  },
  {
   "cell_type": "markdown",
   "id": "92a0dc0e",
   "metadata": {},
   "source": [
    "## Step : 9\n",
    "\n",
    "LOad and Display Data\n",
    "\n",
    "**What’s in the Dataset? :**\n",
    "\n",
    "The dataset is organized into 16 columns that describe each cybersecurity incident or research scenario in detail\n",
    "\n",
    "**Source :** \n",
    "https://www.kaggle.com/datasets/tannubarot/cybersecurity-attack-and-defence-dataset\n",
    "\n",
    "**File Format :**  \n",
    "csv \n",
    "\n"
   ]
  },
  {
   "cell_type": "code",
   "execution_count": 5,
   "id": "a934a18a",
   "metadata": {},
   "outputs": [
    {
     "data": {
      "text/plain": [
       "((14133, 16),\n",
       "    ID                                    Title                  Category  \\\n",
       " 0   1  Authentication Bypass via SQL Injection           Mobile Security   \n",
       " 1   2                Union-Based SQL Injection  AI Agents & LLM Exploits   \n",
       " 2   3                Error-Based SQL Injection  AI Agents & LLM Exploits   \n",
       " 3   4                      Blind SQL Injection  AI Agents & LLM Exploits   \n",
       " 4   5               Second-Order SQL Injection  AI Agents & LLM Exploits   \n",
       " \n",
       "             Attack Type                               Scenario Description  \\\n",
       " 0  SQL Injection (SQLi)  A login form fails to validate or sanitize inp...   \n",
       " 1         SQL Injection  This attack occurs when a hacker uses the SQL ...   \n",
       " 2         SQL Injection  This attack occurs when an attacker intentiona...   \n",
       " 3         SQL Injection  In Blind SQL Injection, the attacker doesn’t s...   \n",
       " 4         SQL Injection  In a Second-Order SQL Injection, the attacker ...   \n",
       " \n",
       "                                           Tools Used  \\\n",
       " 0                        Browser, Burp Suite, SQLMap   \n",
       " 1  SQLMap, Burp Suite, Havij, Browser Developer T...   \n",
       " 2  SQLMap, Burp Suite, Manual Browser Testing, Havij   \n",
       " 3  SQLMap, Burp Suite, sqlninja, Manual Browser T...   \n",
       " 4  Burp Suite, SQLMap, Postman, Browser Dev Tools...   \n",
       " \n",
       "                                        Attack Steps   \\\n",
       " 0  1. Reconnaissance: Find a login form on the we...   \n",
       " 1  1. Identify User Input Points: Attacker finds ...   \n",
       " 2  1. Identify Input Points:Attacker finds a fiel...   \n",
       " 3  1. Find a User Input Point:Attacker finds a pl...   \n",
       " 4  1. Identify Stored Input Fields:The attacker l...   \n",
       " \n",
       "                                          Target Type  \\\n",
       " 0  Web Login Portals (e.g., banking, admin dashbo...   \n",
       " 1        Web Applications, Login Pages, Search Forms   \n",
       " 2  Web Applications, Login Forms, URL Parameters,...   \n",
       " 3  Web Applications, Login Pages, Search Fields, ...   \n",
       " 4  Web Applications, User Registration Forms, Pro...   \n",
       " \n",
       "                                        Vulnerability  \\\n",
       " 0            Unsanitized input fields in SQL queries   \n",
       " 1  Improperly filtered input fields that allow SQ...   \n",
       " 2  Error message exposure due to lack of input va...   \n",
       " 3  No error messages, but user input is still pas...   \n",
       " 4  Trusting previously stored unvalidated data in...   \n",
       " \n",
       "                                      MITRE Technique  \\\n",
       " 0  T1078 (Valid Accounts), T1190 (Exploit Public-...   \n",
       " 1          T1190 – Exploit Public-Facing Application   \n",
       " 2          T1190 – Exploit Public-Facing Application   \n",
       " 3          T1190 – Exploit Public-Facing Application   \n",
       " 4                          T1505.003 – SQL Injection   \n",
       " \n",
       "                                               Impact  \\\n",
       " 0  Full account takeover, data theft, privilege e...   \n",
       " 1  Data leakage, Credential theft, Account takeov...   \n",
       " 2  Information disclosure, Database structure exp...   \n",
       " 3  Slow and stealthy data theftFull database comp...   \n",
       " 4  Delayed data theftUnexpected system behaviorSe...   \n",
       " \n",
       "                                     Detection Method  \\\n",
       " 0  Web server logs, anomaly detection (e.g., logi...   \n",
       " 1  Web Application Firewalls (WAF)Log AnalysisInp...   \n",
       " 2  Review and monitor error logsEnable generic er...   \n",
       " 3  Monitor for slow and repetitive requestsAnalyz...   \n",
       " 4  Log monitoring for delayed query failuresTrack...   \n",
       " \n",
       "                                             Solution  \\\n",
       " 0  Use prepared statements, Sanitize inputs, Limi...   \n",
       " 1  Use parameterized queries (Prepared Statements...   \n",
       " 2  Turn off detailed error messages in production...   \n",
       " 3  Use parameterized queries (prepared statements...   \n",
       " 4  Sanitize and validate inputs both at entry and...   \n",
       " \n",
       "                                                 Tags  \\\n",
       " 0  SQLi, Authentication Bypass, Web Security, OWA...   \n",
       " 1  #SQLInjection #WebSecurity #UnionAttack #OWASP...   \n",
       " 2  #SQLInjection #ErrorLeakage #WebAppSecurity #O...   \n",
       " 3  #BlindSQLi #TimeBasedSQLi #WebAppSecurity #OWA...   \n",
       " 4  #SecondOrderSQLi #DelayedInjection #StoredInje...   \n",
       " \n",
       "                                               Source Unnamed: 15  \n",
       " 0                          OWASP, MITRE ATT&CK, DVWA         NaN  \n",
       " 1  OWASP, MITRE ATT&CK, Acunetix, PortSwigger Web...         NaN  \n",
       " 2  OWASP, MITRE ATT&CK, Acunetix, PortSwigger Web...         NaN  \n",
       " 3  OWASP, MITRE ATT&CK, Acunetix, PortSwigger, SQ...         NaN  \n",
       " 4  OWASP, MITRE ATT&CK, PortSwigger Academy, Acun...         NaN  )"
      ]
     },
     "execution_count": 5,
     "metadata": {},
     "output_type": "execute_result"
    }
   ],
   "source": [
    "df = pd.read_csv(\"data/Attack_Dataset.csv\")\n",
    "df.shape, df.head()"
   ]
  },
  {
   "cell_type": "markdown",
   "id": "c9ab4207",
   "metadata": {},
   "source": [
    "##  Data Cleansing Plan \n",
    "\n",
    "Before performing any analysis, we must ensure our data is clean, consistent, and reliable. Based on best practices in data science, our cleansing plan includes the following key steps:\n",
    "\n",
    "1. Remove duplicates and irrelevant entries  \n",
    "   - Eliminate duplicate rows.  \n",
    "   - Filter out irrelevant categories that don't align with our research focus (e.g., non-AI or non-traditional attack types).  \n",
    "   *“Remove duplicate or irrelevant observations,” as essential for accurate analysis*\n",
    "\n",
    "2. Fix structural inconsistencies\n",
    "   - Trim whitespace, unify text case, and correct typos (e.g., “AI Security” vs. “ai – security”).  \n",
    "   *“Structural errors such as typos or incorrect capitalization can mislabel categories,” leading to skewed grouping* \n",
    "\n",
    "3. Handle missing values\n",
    "   - Identify columns with missing values (`count` vs. total rows).  \n",
    "   - Decide on a strategy: drop rows with critical missing fields or fill with placeholders like `\"Unknown\"`.  \n",
    "   *Dropping or imputing missing values ensures downstream processes aren’t disrupted* \n",
    "\n",
    "4. Standardize formats and categories\n",
    "   - Normalize categories (e.g., group “AI Security,” “AI/ML Security,” and “LLM Exploits” under a single “AI/ML” label).  \n",
    "   - Ensure consistency in category names and formats across the dataset.  \n",
    "   *Standardization ensures that categories are comparable and consistent* \n",
    "\n",
    "5. Verify data integrity & structure\n",
    "   - Confirm that each row contains expected fields and data types (e.g., numerical vs. string).  \n",
    "   - For critical fields, perform manual checks as needed to ensure high-quality data entry.  \n",
    "   *Data integrity checks help ensure data is “fit for use” in analysis* \n"
   ]
  },
  {
   "cell_type": "markdown",
   "id": "ea2dfe35",
   "metadata": {},
   "source": [
    "## Questions to Consider for Choosing Data\n",
    "\n",
    "**Will it be one-time or ongoing?**\n",
    "\n",
    "AI/ML security threats are ongoing rather than one-time, because attackers can continuously generate new adversarial inputs or manipulate training data over time. Unlike traditional attacks that may be patched once, AI/ML systems face evolving risks that require constant monitoring and defense updates."
   ]
  },
  {
   "cell_type": "markdown",
   "id": "a63eea3f",
   "metadata": {},
   "source": []
  }
 ],
 "metadata": {
  "kernelspec": {
   "display_name": ".venv (3.13.7)",
   "language": "python",
   "name": "python3"
  },
  "language_info": {
   "codemirror_mode": {
    "name": "ipython",
    "version": 3
   },
   "file_extension": ".py",
   "mimetype": "text/x-python",
   "name": "python",
   "nbconvert_exporter": "python",
   "pygments_lexer": "ipython3",
   "version": "3.13.7"
  }
 },
 "nbformat": 4,
 "nbformat_minor": 5
}
