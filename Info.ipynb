{
 "cells": [
  {
   "cell_type": "markdown",
   "id": "3229420a",
   "metadata": {},
   "source": [
    "# Problem Analysis Workshop - 1\n",
    "## Data Analysis Mathematics, Algorithms and Modeling\n",
    "### PROG8431 - Fall 2025 - Section 1\n",
    "\n",
    "Team Members - Group 2\n",
    "Aiswarya Thekkuveettil Thazhath - 8993970\n",
    "Albright Maduka - \n",
    "Abdullahi Abdirizak Mohamed"
   ]
  },
  {
   "cell_type": "markdown",
   "id": "5684837d",
   "metadata": {},
   "source": [
    "## Research Question And Field Of Inquiry\n",
    "\n",
    "** Field Of Inquiry **  : \n",
    "AI/ML Security\n",
    "\n",
    "** Research Question **: \n",
    "How do AI/ML related cybersecurity attacks differ from traditional attacks in terms of impact and detection, and what does this reveal about current defense gaps in AI systems ?\n",
    "\n",
    "## Prompt to Gen AI\n",
    "We are a group of students conducting research on AI/ML Security. Our focus is on understanding: How do AI/ML-related cybersecurity attacks differ from traditional attacks in terms of impact and detection, and what does this reveal about the current defense gaps in AI systems? Write a short essay (maximum 100 words) summarizing the findings.\n",
    "\n",
    "## Essay (≈100 words)\n",
    "AI/ML cybersecurity attacks differ from traditional ones by targeting models and data rather than only networks or software. Adversarial examples, data poisoning, and model theft manipulate outcomes subtly, often escaping standard detection methods. Unlike traditional attacks that usually disrupt systems directly, AI/ML attacks undermine trust in automated decision-making, leading to hidden but severe consequences such as biased predictions or security misclassifications. Detection is harder because malicious inputs often resemble normal data, leaving little trace. These challenges reveal defense gaps in AI systems, highlighting the urgent need for specialized, proactive security frameworks tailored to protect models, training pipelines, and datasets\n",
    "\n",
    "\n"
   ]
  },
  {
   "cell_type": "markdown",
   "id": "9d0fc6b2",
   "metadata": {},
   "source": [
    "# setup and configuration steps\n",
    "\n",
    "1. Install the IDE (VS Code)\n",
    "   Download and install Visual Studio Code. This will be your main environment for writing and running your notebook.\n",
    "2. Install Python\n",
    "   Install latest Python 3.x on your computer.\n",
    "3. Create a Virtual Environment\n",
    "   Navigate to your project folder and run:\n",
    "   bash : \n",
    "   python -m venv .venv\n",
    "4. Activate the Virtual Environment\n",
    "\n",
    "   .venv\\Scripts\\activate\n",
    "\n",
    "5. Install Required Python Packages\n",
    "   With the venv active, install what you'll need:\n",
    "   pip install jupyter pandas\n",
    "6. Install VS Code Extensions\n",
    "   Go to Extensions Hub (Ctrl+Shift+X), install:\n",
    "    Python (by Microsoft)\n",
    "    Jupyter (by Microsoft)\n",
    "7. Create & Open Notebook\n",
    "   Here We created Info.ipynb and added the details"
   ]
  },
  {
   "cell_type": "markdown",
   "id": "463f5a30",
   "metadata": {},
   "source": [
    "### Step : 8\n",
    "Import Libraries and Verifications\n"
   ]
  },
  {
   "cell_type": "code",
   "execution_count": null,
   "id": "52120616",
   "metadata": {
    "vscode": {
     "languageId": "plaintext"
    }
   },
   "outputs": [],
   "source": [
    "import sys, pandas as pd\n",
    "print(\"Python:\", sys.version)\n",
    "print(\"pandas:\", pd.__version__)"
   ]
  }
 ],
 "metadata": {
  "language_info": {
   "name": "python"
  }
 },
 "nbformat": 4,
 "nbformat_minor": 5
}
